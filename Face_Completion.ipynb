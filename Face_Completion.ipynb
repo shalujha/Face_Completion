{
  "nbformat": 4,
  "nbformat_minor": 0,
  "metadata": {
    "colab": {
      "name": "Face_Completion.ipynb",
      "provenance": [],
      "collapsed_sections": [],
      "authorship_tag": "ABX9TyPagd4d8de5BVb0vwJefd6X",
      "include_colab_link": true
    },
    "kernelspec": {
      "name": "python3",
      "display_name": "Python 3"
    }
  },
  "cells": [
    {
      "cell_type": "markdown",
      "metadata": {
        "id": "view-in-github",
        "colab_type": "text"
      },
      "source": [
        "<a href=\"https://colab.research.google.com/github/shalujha/Face_Completion/blob/main/Face_Completion.ipynb\" target=\"_parent\"><img src=\"https://colab.research.google.com/assets/colab-badge.svg\" alt=\"Open In Colab\"/></a>"
      ]
    },
    {
      "cell_type": "code",
      "metadata": {
        "id": "akQAuX9CMD5n"
      },
      "source": [
        "import pandas as pd\r\n",
        "import matplotlib.pyplot as plt\r\n",
        "import numpy as np\r\n",
        "from sklearn.datasets import fetch_olivetti_faces\r\n",
        "import math\r\n",
        "from sklearn.preprocessing import StandardScaler\r\n",
        "from sklearn.model_selection import  train_test_split\r\n",
        "from sklearn.linear_model import LinearRegression\r\n",
        "from sklearn.metrics import r2_score\r\n",
        "from sklearn.neighbors import KNeighborsRegressor\r\n",
        "from sklearn.linear_model import Ridge,Lasso\r\n",
        "from sklearn.ensemble import ExtraTreesRegressor,GradientBoostingRegressor\r\n",
        "from sklearn.decomposition import PCA\r\n",
        "import xgboost as xgb"
      ],
      "execution_count": 899,
      "outputs": []
    },
    {
      "cell_type": "code",
      "metadata": {
        "id": "07Bjm8b2ASaS"
      },
      "source": [
        "import warnings\r\n",
        "warnings.filterwarnings('ignore')\r\n",
        "pd.set_option('display.max_columns', None)"
      ],
      "execution_count": 900,
      "outputs": []
    },
    {
      "cell_type": "code",
      "metadata": {
        "id": "xeE3pG1INQzg"
      },
      "source": [
        "dataset=fetch_olivetti_faces()"
      ],
      "execution_count": 901,
      "outputs": []
    },
    {
      "cell_type": "code",
      "metadata": {
        "colab": {
          "base_uri": "https://localhost:8080/",
          "height": 120
        },
        "id": "P-IBnwiWNT2o",
        "outputId": "a750a2c0-afc0-4d51-f0f9-fc20eb2a38c3"
      },
      "source": [
        "dataset.DESCR"
      ],
      "execution_count": 902,
      "outputs": [
        {
          "output_type": "execute_result",
          "data": {
            "application/vnd.google.colaboratory.intrinsic+json": {
              "type": "string"
            },
            "text/plain": [
              "'.. _olivetti_faces_dataset:\\n\\nThe Olivetti faces dataset\\n--------------------------\\n\\n`This dataset contains a set of face images`_ taken between April 1992 and \\nApril 1994 at AT&T Laboratories Cambridge. The\\n:func:`sklearn.datasets.fetch_olivetti_faces` function is the data\\nfetching / caching function that downloads the data\\narchive from AT&T.\\n\\n.. _This dataset contains a set of face images: http://www.cl.cam.ac.uk/research/dtg/attarchive/facedatabase.html\\n\\nAs described on the original website:\\n\\n    There are ten different images of each of 40 distinct subjects. For some\\n    subjects, the images were taken at different times, varying the lighting,\\n    facial expressions (open / closed eyes, smiling / not smiling) and facial\\n    details (glasses / no glasses). All the images were taken against a dark\\n    homogeneous background with the subjects in an upright, frontal position \\n    (with tolerance for some side movement).\\n\\n**Data Set Characteristics:**\\n\\n    =================   =====================\\n    Classes                                40\\n    Samples total                         400\\n    Dimensionality                       4096\\n    Features            real, between 0 and 1\\n    =================   =====================\\n\\nThe image is quantized to 256 grey levels and stored as unsigned 8-bit \\nintegers; the loader will convert these to floating point values on the \\ninterval [0, 1], which are easier to work with for many algorithms.\\n\\nThe \"target\" for this database is an integer from 0 to 39 indicating the\\nidentity of the person pictured; however, with only 10 examples per class, this\\nrelatively small dataset is more interesting from an unsupervised or\\nsemi-supervised perspective.\\n\\nThe original dataset consisted of 92 x 112, while the version available here\\nconsists of 64x64 images.\\n\\nWhen using these images, please give credit to AT&T Laboratories Cambridge.\\n'"
            ]
          },
          "metadata": {
            "tags": []
          },
          "execution_count": 902
        }
      ]
    },
    {
      "cell_type": "code",
      "metadata": {
        "colab": {
          "base_uri": "https://localhost:8080/"
        },
        "id": "jsN13HeWMZS8",
        "outputId": "4560e0bb-5906-446f-8f7a-0f8875132b43"
      },
      "source": [
        "data, targets = fetch_olivetti_faces(return_X_y=True)\r\n",
        "print(type(data))\r\n",
        "print(type(targets))"
      ],
      "execution_count": 903,
      "outputs": [
        {
          "output_type": "stream",
          "text": [
            "<class 'numpy.ndarray'>\n",
            "<class 'numpy.ndarray'>\n"
          ],
          "name": "stdout"
        }
      ]
    },
    {
      "cell_type": "code",
      "metadata": {
        "colab": {
          "base_uri": "https://localhost:8080/"
        },
        "id": "sfzx2kENMllW",
        "outputId": "03ec4fe0-77d2-47b2-f1f7-572eb5239509"
      },
      "source": [
        "print(data.shape,targets.shape)"
      ],
      "execution_count": 904,
      "outputs": [
        {
          "output_type": "stream",
          "text": [
            "(400, 4096) (400,)\n"
          ],
          "name": "stdout"
        }
      ]
    },
    {
      "cell_type": "code",
      "metadata": {
        "id": "v9RgbTxfMqzO"
      },
      "source": [
        "# lets try to visualise some images first:\r\n",
        "def showImage(img_array):\r\n",
        "  plt.axis('off')\r\n",
        "  plt.imshow(img_array)\r\n",
        "  plt.show()"
      ],
      "execution_count": 905,
      "outputs": []
    },
    {
      "cell_type": "code",
      "metadata": {
        "colab": {
          "base_uri": "https://localhost:8080/",
          "height": 513
        },
        "id": "TFT4cwNPMyvf",
        "outputId": "5466a5c6-13ac-4f76-ebc4-1cc12f88c6fa"
      },
      "source": [
        "reshaped_image=data[100].reshape((64,64))\r\n",
        "print(type(reshaped_image))\r\n",
        "reshaped_image=reshaped_image[:32,:]\r\n",
        "new_image=np.zeros((32,64))\r\n",
        "new_reshaped_image=np.concatenate((reshaped_image,new_image),axis=0)\r\n",
        "print(new_image.shape)\r\n",
        "showImage(data[100].reshape((64,64)))\r\n",
        "showImage(new_reshaped_image)"
      ],
      "execution_count": 906,
      "outputs": [
        {
          "output_type": "stream",
          "text": [
            "<class 'numpy.ndarray'>\n",
            "(32, 64)\n"
          ],
          "name": "stdout"
        },
        {
          "output_type": "display_data",
          "data": {
            "image/png": "[encoded data removed]",
            "text/plain": [
              "<Figure size 432x288 with 1 Axes>"
            ]
          },
          "metadata": {
            "tags": [],
            "needs_background": "light"
          }
        },
        {
          "output_type": "display_data",
          "data": {
            "image/png": "[encoded data removed]",
            "text/plain": [
              "<Figure size 432x288 with 1 Axes>"
            ]
          },
          "metadata": {
            "tags": [],
            "needs_background": "light"
          }
        }
      ]
    },
    {
      "cell_type": "code",
      "metadata": {
        "colab": {
          "base_uri": "https://localhost:8080/"
        },
        "id": "yceSYg8uNHyX",
        "outputId": "7e7f2552-2e8d-4931-919a-6410438fcdc8"
      },
      "source": [
        "X=[]\r\n",
        "Y=[]\r\n",
        "for i in range(data.shape[0]):\r\n",
        "  reshaped_image=data[i].reshape((64,64))\r\n",
        "  X.append(reshaped_image[:32,:])\r\n",
        "  Y.append(reshaped_image[32:,:])\r\n",
        "print(len(X),len(Y))"
      ],
      "execution_count": 907,
      "outputs": [
        {
          "output_type": "stream",
          "text": [
            "400 400\n"
          ],
          "name": "stdout"
        }
      ]
    },
    {
      "cell_type": "code",
      "metadata": {
        "colab": {
          "base_uri": "https://localhost:8080/",
          "height": 248
        },
        "id": "2067ipNiNLzp",
        "outputId": "a51fc91b-449d-47ae-aa88-0efbd0dee3f3"
      },
      "source": [
        "reshaped_image=np.concatenate((X[0],Y[0]),axis=0)\r\n",
        "showImage(reshaped_image)"
      ],
      "execution_count": 908,
      "outputs": [
        {
          "output_type": "display_data",
          "data": {
            "image/png": "[encoded data removed]",
            "text/plain": [
              "<Figure size 432x288 with 1 Axes>"
            ]
          },
          "metadata": {
            "tags": [],
            "needs_background": "light"
          }
        }
      ]
    },
    {
      "cell_type": "code",
      "metadata": {
        "colab": {
          "base_uri": "https://localhost:8080/",
          "height": 52
        },
        "id": "ATIr1t9rTE_s",
        "outputId": "5d198758-8ffd-4e72-8a62-2c9db141391e"
      },
      "source": [
        "# splitting data \r\n",
        "X=np.asarray(X)\r\n",
        "Y=np.asarray(Y)\r\n",
        "scaler=StandardScaler()\r\n",
        "X=scaler.fit_transform(X.reshape((-1,32*64)))\r\n",
        "Y=scaler.fit_transform(Y.reshape((-1,32*64)))\r\n",
        "'''\r\n",
        "X_df=pd.DataFrame(data=X)\r\n",
        "Y_df=pd.DataFrame(data=Y)\r\n",
        "#print(X_df.head())\r\n",
        "mean=X_df.mean()\r\n",
        "print(len(mean))\r\n",
        "for index,i in enumerate(X_df.columns):\r\n",
        "  X_df[i]=X_df[i]-mean[i]\r\n",
        "for index,i in enumerate(Y_df.columns):\r\n",
        "  Y_df[i]=Y_df[i]-mean[i]\r\n",
        "  #print(X_df[i].mean(axis=0))\r\n",
        "'''"
      ],
      "execution_count": 909,
      "outputs": [
        {
          "output_type": "execute_result",
          "data": {
            "application/vnd.google.colaboratory.intrinsic+json": {
              "type": "string"
            },
            "text/plain": [
              "'\\nX_df=pd.DataFrame(data=X)\\nY_df=pd.DataFrame(data=Y)\\n#print(X_df.head())\\nmean=X_df.mean()\\nprint(len(mean))\\nfor index,i in enumerate(X_df.columns):\\n  X_df[i]=X_df[i]-mean[i]\\nfor index,i in enumerate(Y_df.columns):\\n  Y_df[i]=Y_df[i]-mean[i]\\n  #print(X_df[i].mean(axis=0))\\n'"
            ]
          },
          "metadata": {
            "tags": []
          },
          "execution_count": 909
        }
      ]
    },
    {
      "cell_type": "code",
      "metadata": {
        "colab": {
          "base_uri": "https://localhost:8080/"
        },
        "id": "NCToblGuNIhP",
        "outputId": "cdfa8681-0657-4c39-8941-c87232edff2d"
      },
      "source": [
        "print(X_df[4].mean())\r\n",
        "print(mean[4])"
      ],
      "execution_count": 910,
      "outputs": [
        {
          "output_type": "stream",
          "text": [
            "2.086162576020456e-09\n",
            "2.0861626e-09\n"
          ],
          "name": "stdout"
        }
      ]
    },
    {
      "cell_type": "code",
      "metadata": {
        "colab": {
          "base_uri": "https://localhost:8080/"
        },
        "id": "dZK-OIxR7eQf",
        "outputId": "9bb49daa-bcda-4c57-ba5f-09400171cf3f"
      },
      "source": [
        "print(X.shape,Y.shape)\r\n",
        "pca=PCA(n_components=0.97)\r\n",
        "X_reduced=pca.fit_transform(X)\r\n",
        "Y_reduced=pca.fit_transform(Y)\r\n",
        "X_reduced=X_reduced[:,:36]\r\n",
        "Y_reduced=Y_reduced[:,:36]\r\n",
        "print(X_reduced.shape,Y_reduced.shape)"
      ],
      "execution_count": 911,
      "outputs": [
        {
          "output_type": "stream",
          "text": [
            "(400, 2048) (400, 2048)\n",
            "(400, 36) (400, 36)\n"
          ],
          "name": "stdout"
        }
      ]
    },
    {
      "cell_type": "code",
      "metadata": {
        "colab": {
          "base_uri": "https://localhost:8080/"
        },
        "id": "E89z7jT66nK3",
        "outputId": "3c2fc663-2f3e-4ca5-ae1b-995d9bd37c81"
      },
      "source": [
        "X_train,X_test,Y_train,Y_test=train_test_split(X,Y,test_size=0.2,shuffle=True)\r\n",
        "print(X_train.shape,Y_train.shape,X_test.shape,Y_test.shape)"
      ],
      "execution_count": 912,
      "outputs": [
        {
          "output_type": "stream",
          "text": [
            "(320, 2048) (320, 2048) (80, 2048) (80, 2048)\n"
          ],
          "name": "stdout"
        }
      ]
    },
    {
      "cell_type": "code",
      "metadata": {
        "colab": {
          "base_uri": "https://localhost:8080/"
        },
        "id": "gQCow69L7dCH",
        "outputId": "2754ad05-0a22-40ff-d0a9-2416cb8a8ce1"
      },
      "source": [
        "X_train_,X_test_,Y_train_,Y_test_=train_test_split(X_reduced,Y_reduced,test_size=0.2,shuffle=True)\r\n",
        "print(X_train_.shape,Y_train_.shape,X_test_.shape,Y_test_.shape)"
      ],
      "execution_count": 913,
      "outputs": [
        {
          "output_type": "stream",
          "text": [
            "(320, 36) (320, 36) (80, 36) (80, 36)\n"
          ],
          "name": "stdout"
        }
      ]
    },
    {
      "cell_type": "code",
      "metadata": {
        "id": "7cj7El2rTnRS",
        "colab": {
          "base_uri": "https://localhost:8080/"
        },
        "outputId": "916c7c44-a198-4875-82c4-88bcf7ef962f"
      },
      "source": [
        "lr=LinearRegression()\r\n",
        "lr.fit(X_train,Y_train)\r\n",
        "print(lr.score(X_test,Y_test))\r\n",
        "predictions=lr.predict(X_test)"
      ],
      "execution_count": 914,
      "outputs": [
        {
          "output_type": "stream",
          "text": [
            "0.2722380503693535\n"
          ],
          "name": "stdout"
        }
      ]
    },
    {
      "cell_type": "code",
      "metadata": {
        "colab": {
          "base_uri": "https://localhost:8080/"
        },
        "id": "U8Wj_g6a-tct",
        "outputId": "f2b87b11-8ddd-4db2-cc63-105a5483ef35"
      },
      "source": [
        "lr=LinearRegression()\r\n",
        "lr.fit(X_train_,Y_train_)\r\n",
        "print(lr.score(X_test_,Y_test_))"
      ],
      "execution_count": 915,
      "outputs": [
        {
          "output_type": "stream",
          "text": [
            "0.6106159089141002\n"
          ],
          "name": "stdout"
        }
      ]
    },
    {
      "cell_type": "code",
      "metadata": {
        "colab": {
          "base_uri": "https://localhost:8080/"
        },
        "id": "68QKu79_T-63",
        "outputId": "9449d260-2b9b-4853-fbd4-1c30ffc69995"
      },
      "source": [
        "print(len(predictions),predictions[0].shape)"
      ],
      "execution_count": 916,
      "outputs": [
        {
          "output_type": "stream",
          "text": [
            "80 (2048,)\n"
          ],
          "name": "stdout"
        }
      ]
    },
    {
      "cell_type": "code",
      "metadata": {
        "id": "5u0OetJvUQa7"
      },
      "source": [
        "# lets visualise what our model has predicted till now :\r\n",
        "def visualisePrediction(test_image,predicted_image):\r\n",
        "  test_image=test_image.reshape((32,64))\r\n",
        "  predicted_image=predicted_image.reshape((32,64))\r\n",
        "  stacked_image=np.concatenate((test_image,predicted_image),axis=0)\r\n",
        "  showImage(stacked_image)"
      ],
      "execution_count": 917,
      "outputs": []
    },
    {
      "cell_type": "code",
      "metadata": {
        "colab": {
          "base_uri": "https://localhost:8080/",
          "height": 479
        },
        "id": "xjVOurA1V4mV",
        "outputId": "33c019e1-902e-4ac0-badf-8c45f2cd011c"
      },
      "source": [
        "visualisePrediction(X_test[10],predictions[10])\r\n",
        "visualisePrediction(X_test[10],Y_test[10])"
      ],
      "execution_count": 918,
      "outputs": [
        {
          "output_type": "display_data",
          "data": {
            "image/png": "[encoded data removed]",
            "text/plain": [
              "<Figure size 432x288 with 1 Axes>"
            ]
          },
          "metadata": {
            "tags": [],
            "needs_background": "light"
          }
        },
        {
          "output_type": "display_data",
          "data": {
            "image/png": "[encoded data removed]",
            "text/plain": [
              "<Figure size 432x288 with 1 Axes>"
            ]
          },
          "metadata": {
            "tags": [],
            "needs_background": "light"
          }
        }
      ]
    },
    {
      "cell_type": "code",
      "metadata": {
        "id": "LzE9Z4USV8eT",
        "colab": {
          "base_uri": "https://localhost:8080/",
          "height": 479
        },
        "outputId": "8ab47227-1ccf-4869-a263-456e7636325d"
      },
      "source": [
        "visualisePrediction(X_test[20],predictions[20])\r\n",
        "visualisePrediction(X_test[20],Y_test[20])"
      ],
      "execution_count": 919,
      "outputs": [
        {
          "output_type": "display_data",
          "data": {
            "image/png": "[encoded data removed]",
            "text/plain": [
              "<Figure size 432x288 with 1 Axes>"
            ]
          },
          "metadata": {
            "tags": [],
            "needs_background": "light"
          }
        },
        {
          "output_type": "display_data",
          "data": {
            "image/png": "[encoded data removed]",
            "text/plain": [
              "<Figure size 432x288 with 1 Axes>"
            ]
          },
          "metadata": {
            "tags": [],
            "needs_background": "light"
          }
        }
      ]
    },
    {
      "cell_type": "code",
      "metadata": {
        "colab": {
          "base_uri": "https://localhost:8080/",
          "height": 479
        },
        "id": "Jjt2qb4rWSN5",
        "outputId": "55f6559b-c899-4aad-a5cd-25868b25e223"
      },
      "source": [
        "visualisePrediction(X_test[40],predictions[40])\r\n",
        "visualisePrediction(X_test[40],Y_test[40])"
      ],
      "execution_count": 920,
      "outputs": [
        {
          "output_type": "display_data",
          "data": {
            "image/png": "[encoded data removed]",
            "text/plain": [
              "<Figure size 432x288 with 1 Axes>"
            ]
          },
          "metadata": {
            "tags": [],
            "needs_background": "light"
          }
        },
        {
          "output_type": "display_data",
          "data": {
            "image/png": "[encoded data removed]",
            "text/plain": [
              "<Figure size 432x288 with 1 Axes>"
            ]
          },
          "metadata": {
            "tags": [],
            "needs_background": "light"
          }
        }
      ]
    },
    {
      "cell_type": "code",
      "metadata": {
        "colab": {
          "base_uri": "https://localhost:8080/"
        },
        "id": "-1x6kv7TWaXN",
        "outputId": "821ae837-9d40-4192-ab98-fa2a971b5f37"
      },
      "source": [
        "r2_score(Y_test,predictions)"
      ],
      "execution_count": 921,
      "outputs": [
        {
          "output_type": "execute_result",
          "data": {
            "text/plain": [
              "0.2601308522715369"
            ]
          },
          "metadata": {
            "tags": []
          },
          "execution_count": 921
        }
      ]
    },
    {
      "cell_type": "code",
      "metadata": {
        "colab": {
          "base_uri": "https://localhost:8080/",
          "height": 282
        },
        "id": "FwjcmAsEWs99",
        "outputId": "5c3d873f-6b83-423c-92b0-dd86a0cad75f"
      },
      "source": [
        "# lets try different regressors:\r\n",
        "acc_list=[]\r\n",
        "for i in range(1,200):\r\n",
        "  rg=Ridge(alpha=i)\r\n",
        "  rg.fit(X_train,Y_train)\r\n",
        "  acc_list.append(rg.score(X_test,Y_test))\r\n",
        "plt.plot(acc_list)"
      ],
      "execution_count": 922,
      "outputs": [
        {
          "output_type": "execute_result",
          "data": {
            "text/plain": [
              "[<matplotlib.lines.Line2D at 0x7fdb5e2a36d8>]"
            ]
          },
          "metadata": {
            "tags": []
          },
          "execution_count": 922
        },
        {
          "output_type": "display_data",
          "data": {
            "image/png": "[encoded data removed]",
            "text/plain": [
              "<Figure size 432x288 with 1 Axes>"
            ]
          },
          "metadata": {
            "tags": [],
            "needs_background": "light"
          }
        }
      ]
    },
    {
      "cell_type": "code",
      "metadata": {
        "colab": {
          "base_uri": "https://localhost:8080/"
        },
        "id": "qOrz9vw8B867",
        "outputId": "9e3a162f-6737-4fbe-9914-ccbf60cc8f99"
      },
      "source": [
        "print('Maximum accuracy by Ridge Regression is {} percent'.format(acc_list[np.argmax(acc_list)]*100))\r\n",
        "print(np.argmax(acc_list))"
      ],
      "execution_count": 923,
      "outputs": [
        {
          "output_type": "stream",
          "text": [
            "Maximum accuracy by Ridge Regression is 55.40254113241825 percent\n",
            "198\n"
          ],
          "name": "stdout"
        }
      ]
    },
    {
      "cell_type": "code",
      "metadata": {
        "colab": {
          "base_uri": "https://localhost:8080/",
          "height": 282
        },
        "id": "DlxjX4tG-7NW",
        "outputId": "82fde653-f27e-4edb-e0b0-dca851ee86f9"
      },
      "source": [
        "acc_list=[]\r\n",
        "for i in range(1,500):\r\n",
        "  rg=Ridge(alpha=i)\r\n",
        "  rg.fit(X_train_,Y_train_)\r\n",
        "  acc_list.append(rg.score(X_test_,Y_test_))\r\n",
        "plt.plot(acc_list)"
      ],
      "execution_count": 924,
      "outputs": [
        {
          "output_type": "execute_result",
          "data": {
            "text/plain": [
              "[<matplotlib.lines.Line2D at 0x7fdb673a1a90>]"
            ]
          },
          "metadata": {
            "tags": []
          },
          "execution_count": 924
        },
        {
          "output_type": "display_data",
          "data": {
            "image/png": "[encoded data removed]",
            "text/plain": [
              "<Figure size 432x288 with 1 Axes>"
            ]
          },
          "metadata": {
            "tags": [],
            "needs_background": "light"
          }
        }
      ]
    },
    {
      "cell_type": "code",
      "metadata": {
        "colab": {
          "base_uri": "https://localhost:8080/"
        },
        "id": "a6HTHGyu_KY3",
        "outputId": "a94b17fb-a29e-4e32-9a9d-0aa2e26b6b7c"
      },
      "source": [
        "print('Maximum accuracy by Ridge Regression is {} percent'.format(acc_list[np.argmax(acc_list)]*100))\r\n",
        "print(np.argmax(acc_list))"
      ],
      "execution_count": 925,
      "outputs": [
        {
          "output_type": "stream",
          "text": [
            "Maximum accuracy by Ridge Regression is 61.901500355406604 percent\n",
            "498\n"
          ],
          "name": "stdout"
        }
      ]
    },
    {
      "cell_type": "code",
      "metadata": {
        "colab": {
          "base_uri": "https://localhost:8080/"
        },
        "id": "TxEg6BWbX1Pe",
        "outputId": "8334801c-42c5-422f-e1eb-7886e248b260"
      },
      "source": [
        "\r\n",
        "neighbor=KNeighborsRegressor()\r\n",
        "neighbor.fit(X_train,Y_train)\r\n",
        "neighbor.score(X_test,Y_test)"
      ],
      "execution_count": 926,
      "outputs": [
        {
          "output_type": "execute_result",
          "data": {
            "text/plain": [
              "0.5060638017488334"
            ]
          },
          "metadata": {
            "tags": []
          },
          "execution_count": 926
        }
      ]
    },
    {
      "cell_type": "code",
      "metadata": {
        "id": "8yBbNcIpYadO"
      },
      "source": [
        "acc_list=[]\r\n",
        "for i in range(1,100):\r\n",
        "  neighbor=KNeighborsRegressor(n_neighbors=i)\r\n",
        "  neighbor.fit(X_train,Y_train)\r\n",
        "  acc_list.append(neighbor.score(X_test,Y_test))"
      ],
      "execution_count": 927,
      "outputs": []
    },
    {
      "cell_type": "code",
      "metadata": {
        "colab": {
          "base_uri": "https://localhost:8080/",
          "height": 300
        },
        "id": "0Y00MN9V_q8B",
        "outputId": "ead04b3a-937b-43a6-99d3-26819a38c3fd"
      },
      "source": [
        "plt.plot(acc_list)\r\n",
        "print(np.argmax(acc_list))\r\n",
        "print('Maximum accuracy by K nearest neighbor is {} percent'.format(acc_list[np.argmax(acc_list)]*100))"
      ],
      "execution_count": 928,
      "outputs": [
        {
          "output_type": "stream",
          "text": [
            "2\n",
            "Maximum accuracy by K nearest neighbor is 54.013103787216984 percent\n"
          ],
          "name": "stdout"
        },
        {
          "output_type": "display_data",
          "data": {
            "image/png": "[encoded data removed]",
            "text/plain": [
              "<Figure size 432x288 with 1 Axes>"
            ]
          },
          "metadata": {
            "tags": [],
            "needs_background": "light"
          }
        }
      ]
    },
    {
      "cell_type": "code",
      "metadata": {
        "id": "8Uk4c6JW_yU7"
      },
      "source": [
        "acc_list=[]\r\n",
        "for i in range(1,100):\r\n",
        "  neighbor=KNeighborsRegressor(n_neighbors=i)\r\n",
        "  neighbor.fit(X_train_,Y_train_)\r\n",
        "  acc_list.append(neighbor.score(X_test_,Y_test_))"
      ],
      "execution_count": 929,
      "outputs": []
    },
    {
      "cell_type": "code",
      "metadata": {
        "colab": {
          "base_uri": "https://localhost:8080/"
        },
        "id": "B2h-HmGJ_fWp",
        "outputId": "0c3bbf67-328e-4ed4-9d28-c5b6a6eb29d9"
      },
      "source": [
        "print(np.argmax(acc_list))"
      ],
      "execution_count": 930,
      "outputs": [
        {
          "output_type": "stream",
          "text": [
            "2\n"
          ],
          "name": "stdout"
        }
      ]
    },
    {
      "cell_type": "code",
      "metadata": {
        "colab": {
          "base_uri": "https://localhost:8080/"
        },
        "id": "PrtR1TP8_ieM",
        "outputId": "852cbd99-c409-4782-c401-fc702d09a184"
      },
      "source": [
        "print('Maximum accuracy by K nearest neighbor is {} percent'.format(acc_list[np.argmax(acc_list)]*100))"
      ],
      "execution_count": 931,
      "outputs": [
        {
          "output_type": "stream",
          "text": [
            "Maximum accuracy by K nearest neighbor is 67.46988411306701 percent\n"
          ],
          "name": "stdout"
        }
      ]
    },
    {
      "cell_type": "code",
      "metadata": {
        "colab": {
          "base_uri": "https://localhost:8080/"
        },
        "id": "Bj0v7wbH_pW4",
        "outputId": "611eac60-5a94-4296-d366-9b36c5c4bc46"
      },
      "source": [
        "from sklearn.ensemble import RandomForestRegressor\r\n",
        "rf=RandomForestRegressor(n_estimators=32,max_depth=14)\r\n",
        "rf.fit(X_train_,Y_train_)\r\n",
        "print(rf.score(X_test_,Y_test_))"
      ],
      "execution_count": 932,
      "outputs": [
        {
          "output_type": "stream",
          "text": [
            "0.5673432406465639\n"
          ],
          "name": "stdout"
        }
      ]
    },
    {
      "cell_type": "code",
      "metadata": {
        "id": "7GrsehshTgh0"
      },
      "source": [
        "acc_list=[]\r\n",
        "for i in range(1,100):\r\n",
        "  rf=RandomForestRegressor(n_estimators=i)\r\n",
        "  rf.fit(X_train_,Y_train_)\r\n",
        "  acc_list.append(rf.score(X_test_,Y_test_))"
      ],
      "execution_count": 933,
      "outputs": []
    },
    {
      "cell_type": "code",
      "metadata": {
        "colab": {
          "base_uri": "https://localhost:8080/"
        },
        "id": "WOAJ4oFyUngY",
        "outputId": "b1251dae-dbee-49ac-863b-eb06e866ffbd"
      },
      "source": [
        "print(np.argmax(acc_list))\r\n",
        "print(acc_list[95])"
      ],
      "execution_count": 934,
      "outputs": [
        {
          "output_type": "stream",
          "text": [
            "77\n",
            "0.5823721033013575\n"
          ],
          "name": "stdout"
        }
      ]
    },
    {
      "cell_type": "code",
      "metadata": {
        "id": "5zzZ1FGiVb4D"
      },
      "source": [
        "for i in range(1,100):\r\n",
        "  eg=ExtraTreesRegressor(n_estimators=i)\r\n",
        "  eg.fit(X_train_,Y_train_)\r\n",
        "  acc_list.append(eg.score(X_test_,Y_test_))"
      ],
      "execution_count": 936,
      "outputs": []
    },
    {
      "cell_type": "code",
      "metadata": {
        "colab": {
          "base_uri": "https://localhost:8080/"
        },
        "id": "aFc73wf3Y-pT",
        "outputId": "0d9de5f3-f2b4-48f7-d815-4577c5cda0fe"
      },
      "source": [
        "print(acc_list[np.argmax(acc_list)])"
      ],
      "execution_count": 937,
      "outputs": [
        {
          "output_type": "stream",
          "text": [
            "0.6748937300998101\n"
          ],
          "name": "stdout"
        }
      ]
    },
    {
      "cell_type": "code",
      "metadata": {
        "colab": {
          "base_uri": "https://localhost:8080/"
        },
        "id": "MK4vE5EDbKeU",
        "outputId": "7cd21f86-4b7b-4191-97f7-eca9a82f72ec"
      },
      "source": [
        "# we are getting highest accuracy in KNN:\r\n",
        "reg=KNeighborsRegressor(n_neighbors=3)\r\n",
        "reg.fit(X_train_,Y_train_)\r\n",
        "print(reg.score(X_test_,Y_test_))"
      ],
      "execution_count": 938,
      "outputs": [
        {
          "output_type": "stream",
          "text": [
            "0.6746988411306701\n"
          ],
          "name": "stdout"
        }
      ]
    },
    {
      "cell_type": "code",
      "metadata": {
        "id": "seRDm5YEj0wB"
      },
      "source": [
        ""
      ],
      "execution_count": null,
      "outputs": []
    }
  ]
}